{
 "cells": [
  {
   "cell_type": "code",
   "execution_count": 119,
   "id": "560f1812",
   "metadata": {},
   "outputs": [],
   "source": [
    "from wordcloud import WordCloud, STOPWORDS\n",
    "import matplotlib.pyplot as plt\n",
    "import pandas as pd\n",
    "import numpy as np\n",
    "import re"
   ]
  },
  {
   "cell_type": "code",
   "execution_count": 19,
   "id": "2dab3e85",
   "metadata": {},
   "outputs": [],
   "source": [
    "messages = pd.read_json(r\"result.json\")"
   ]
  },
  {
   "cell_type": "code",
   "execution_count": 20,
   "id": "313ca34b",
   "metadata": {},
   "outputs": [],
   "source": [
    "messages = messages[['id', 'date', 'from','text']]\n",
    "messages['sender'] = messages['from'].apply(lambda x: 'Anna' if x == 'Анюта' else 'Pavel')\n",
    "messages = messages[['id', 'date', 'sender','text']]"
   ]
  },
  {
   "cell_type": "code",
   "execution_count": 21,
   "id": "0a541cfd",
   "metadata": {},
   "outputs": [
    {
     "data": {
      "text/html": [
       "<div>\n",
       "<style scoped>\n",
       "    .dataframe tbody tr th:only-of-type {\n",
       "        vertical-align: middle;\n",
       "    }\n",
       "\n",
       "    .dataframe tbody tr th {\n",
       "        vertical-align: top;\n",
       "    }\n",
       "\n",
       "    .dataframe thead th {\n",
       "        text-align: right;\n",
       "    }\n",
       "</style>\n",
       "<table border=\"1\" class=\"dataframe\">\n",
       "  <thead>\n",
       "    <tr style=\"text-align: right;\">\n",
       "      <th></th>\n",
       "      <th>id</th>\n",
       "      <th>date</th>\n",
       "      <th>sender</th>\n",
       "      <th>text</th>\n",
       "    </tr>\n",
       "  </thead>\n",
       "  <tbody>\n",
       "    <tr>\n",
       "      <th>0</th>\n",
       "      <td>329929</td>\n",
       "      <td>2021-06-01 00:01:10</td>\n",
       "      <td>Anna</td>\n",
       "      <td>Бля срочно</td>\n",
       "    </tr>\n",
       "    <tr>\n",
       "      <th>1</th>\n",
       "      <td>329930</td>\n",
       "      <td>2021-06-01 00:01:11</td>\n",
       "      <td>Anna</td>\n",
       "      <td>Срочно</td>\n",
       "    </tr>\n",
       "    <tr>\n",
       "      <th>2</th>\n",
       "      <td>329931</td>\n",
       "      <td>2021-06-01 00:01:15</td>\n",
       "      <td>Anna</td>\n",
       "      <td>Честно ответь</td>\n",
       "    </tr>\n",
       "    <tr>\n",
       "      <th>3</th>\n",
       "      <td>329932</td>\n",
       "      <td>2021-06-01 00:01:20</td>\n",
       "      <td>Anna</td>\n",
       "      <td>Ты вытираешь жопу стоя?</td>\n",
       "    </tr>\n",
       "    <tr>\n",
       "      <th>4</th>\n",
       "      <td>329933</td>\n",
       "      <td>2021-06-01 00:01:30</td>\n",
       "      <td>Pavel</td>\n",
       "      <td>Эм</td>\n",
       "    </tr>\n",
       "    <tr>\n",
       "      <th>...</th>\n",
       "      <td>...</td>\n",
       "      <td>...</td>\n",
       "      <td>...</td>\n",
       "      <td>...</td>\n",
       "    </tr>\n",
       "    <tr>\n",
       "      <th>32840</th>\n",
       "      <td>391118</td>\n",
       "      <td>2021-10-27 23:43:37</td>\n",
       "      <td>Pavel</td>\n",
       "      <td></td>\n",
       "    </tr>\n",
       "    <tr>\n",
       "      <th>32841</th>\n",
       "      <td>391119</td>\n",
       "      <td>2021-10-27 23:43:39</td>\n",
       "      <td>Pavel</td>\n",
       "      <td>А такое снимешь? 🥺👉👈</td>\n",
       "    </tr>\n",
       "    <tr>\n",
       "      <th>32842</th>\n",
       "      <td>391120</td>\n",
       "      <td>2021-10-27 23:43:52</td>\n",
       "      <td>Pavel</td>\n",
       "      <td>Скинул сюда потому что тикток опять блокнет</td>\n",
       "    </tr>\n",
       "    <tr>\n",
       "      <th>32843</th>\n",
       "      <td>391121</td>\n",
       "      <td>2021-10-27 23:46:56</td>\n",
       "      <td>Anna</td>\n",
       "      <td>Ахах</td>\n",
       "    </tr>\n",
       "    <tr>\n",
       "      <th>32844</th>\n",
       "      <td>391122</td>\n",
       "      <td>2021-10-27 23:53:05</td>\n",
       "      <td>Pavel</td>\n",
       "      <td>Доброй ночи, киса❤️</td>\n",
       "    </tr>\n",
       "  </tbody>\n",
       "</table>\n",
       "<p>32845 rows × 4 columns</p>\n",
       "</div>"
      ],
      "text/plain": [
       "           id                date sender  \\\n",
       "0      329929 2021-06-01 00:01:10   Anna   \n",
       "1      329930 2021-06-01 00:01:11   Anna   \n",
       "2      329931 2021-06-01 00:01:15   Anna   \n",
       "3      329932 2021-06-01 00:01:20   Anna   \n",
       "4      329933 2021-06-01 00:01:30  Pavel   \n",
       "...       ...                 ...    ...   \n",
       "32840  391118 2021-10-27 23:43:37  Pavel   \n",
       "32841  391119 2021-10-27 23:43:39  Pavel   \n",
       "32842  391120 2021-10-27 23:43:52  Pavel   \n",
       "32843  391121 2021-10-27 23:46:56   Anna   \n",
       "32844  391122 2021-10-27 23:53:05  Pavel   \n",
       "\n",
       "                                              text  \n",
       "0                                       Бля срочно  \n",
       "1                                           Срочно  \n",
       "2                                    Честно ответь  \n",
       "3                          Ты вытираешь жопу стоя?  \n",
       "4                                               Эм  \n",
       "...                                            ...  \n",
       "32840                                               \n",
       "32841                         А такое снимешь? 🥺👉👈  \n",
       "32842  Скинул сюда потому что тикток опять блокнет  \n",
       "32843                                         Ахах  \n",
       "32844                          Доброй ночи, киса❤️  \n",
       "\n",
       "[32845 rows x 4 columns]"
      ]
     },
     "execution_count": 21,
     "metadata": {},
     "output_type": "execute_result"
    }
   ],
   "source": [
    "messages"
   ]
  },
  {
   "cell_type": "code",
   "execution_count": 25,
   "id": "c014ef34",
   "metadata": {},
   "outputs": [],
   "source": [
    " \n",
    "    # Count\n"
   ]
  },
  {
   "cell_type": "code",
   "execution_count": 37,
   "id": "7d6068c9",
   "metadata": {},
   "outputs": [],
   "source": [
    "messages['day'] = messages['date'].apply(lambda x : x.date())"
   ]
  },
  {
   "cell_type": "code",
   "execution_count": 44,
   "id": "70f8817f",
   "metadata": {},
   "outputs": [],
   "source": [
    "piv_count_messages_day = pd.pivot_table(messages, index = 'day',columns = 'sender', values = 'id',aggfunc='count')\n",
    "piv_count_messages_day = piv_count_messages_day.reset_index()\n",
    "\n",
    "anna_count = messages[messages.sender == 'Anna'].shape[0]\n",
    "pavel_count = messages[messages.sender != 'Anna'].shape[0]\n",
    "anna_mean = piv_count_messages_day['Anna'].mean()\n",
    "pavel_mean = piv_count_messages_day['Pavel'].mean()\n",
    "anna_median = piv_count_messages_day['Anna'].median()\n",
    "pavel_median = piv_count_messages_day['Pavel'].median()"
   ]
  },
  {
   "cell_type": "code",
   "execution_count": 45,
   "id": "27fe0ebd",
   "metadata": {},
   "outputs": [
    {
     "data": {
      "text/html": [
       "<div>\n",
       "<style scoped>\n",
       "    .dataframe tbody tr th:only-of-type {\n",
       "        vertical-align: middle;\n",
       "    }\n",
       "\n",
       "    .dataframe tbody tr th {\n",
       "        vertical-align: top;\n",
       "    }\n",
       "\n",
       "    .dataframe thead th {\n",
       "        text-align: right;\n",
       "    }\n",
       "</style>\n",
       "<table border=\"1\" class=\"dataframe\">\n",
       "  <thead>\n",
       "    <tr style=\"text-align: right;\">\n",
       "      <th>sender</th>\n",
       "      <th>day</th>\n",
       "      <th>Anna</th>\n",
       "      <th>Pavel</th>\n",
       "    </tr>\n",
       "  </thead>\n",
       "  <tbody>\n",
       "    <tr>\n",
       "      <th>0</th>\n",
       "      <td>2021-06-01</td>\n",
       "      <td>327.0</td>\n",
       "      <td>189.0</td>\n",
       "    </tr>\n",
       "    <tr>\n",
       "      <th>1</th>\n",
       "      <td>2021-06-02</td>\n",
       "      <td>360.0</td>\n",
       "      <td>147.0</td>\n",
       "    </tr>\n",
       "    <tr>\n",
       "      <th>2</th>\n",
       "      <td>2021-06-03</td>\n",
       "      <td>150.0</td>\n",
       "      <td>74.0</td>\n",
       "    </tr>\n",
       "    <tr>\n",
       "      <th>3</th>\n",
       "      <td>2021-06-04</td>\n",
       "      <td>150.0</td>\n",
       "      <td>76.0</td>\n",
       "    </tr>\n",
       "    <tr>\n",
       "      <th>4</th>\n",
       "      <td>2021-06-05</td>\n",
       "      <td>271.0</td>\n",
       "      <td>122.0</td>\n",
       "    </tr>\n",
       "    <tr>\n",
       "      <th>...</th>\n",
       "      <td>...</td>\n",
       "      <td>...</td>\n",
       "      <td>...</td>\n",
       "    </tr>\n",
       "    <tr>\n",
       "      <th>144</th>\n",
       "      <td>2021-10-23</td>\n",
       "      <td>79.0</td>\n",
       "      <td>71.0</td>\n",
       "    </tr>\n",
       "    <tr>\n",
       "      <th>145</th>\n",
       "      <td>2021-10-24</td>\n",
       "      <td>3.0</td>\n",
       "      <td>4.0</td>\n",
       "    </tr>\n",
       "    <tr>\n",
       "      <th>146</th>\n",
       "      <td>2021-10-25</td>\n",
       "      <td>147.0</td>\n",
       "      <td>79.0</td>\n",
       "    </tr>\n",
       "    <tr>\n",
       "      <th>147</th>\n",
       "      <td>2021-10-26</td>\n",
       "      <td>133.0</td>\n",
       "      <td>80.0</td>\n",
       "    </tr>\n",
       "    <tr>\n",
       "      <th>148</th>\n",
       "      <td>2021-10-27</td>\n",
       "      <td>217.0</td>\n",
       "      <td>113.0</td>\n",
       "    </tr>\n",
       "  </tbody>\n",
       "</table>\n",
       "<p>149 rows × 3 columns</p>\n",
       "</div>"
      ],
      "text/plain": [
       "sender         day   Anna  Pavel\n",
       "0       2021-06-01  327.0  189.0\n",
       "1       2021-06-02  360.0  147.0\n",
       "2       2021-06-03  150.0   74.0\n",
       "3       2021-06-04  150.0   76.0\n",
       "4       2021-06-05  271.0  122.0\n",
       "..             ...    ...    ...\n",
       "144     2021-10-23   79.0   71.0\n",
       "145     2021-10-24    3.0    4.0\n",
       "146     2021-10-25  147.0   79.0\n",
       "147     2021-10-26  133.0   80.0\n",
       "148     2021-10-27  217.0  113.0\n",
       "\n",
       "[149 rows x 3 columns]"
      ]
     },
     "execution_count": 45,
     "metadata": {},
     "output_type": "execute_result"
    }
   ],
   "source": [
    "piv_count_messages_day"
   ]
  },
  {
   "cell_type": "code",
   "execution_count": 97,
   "id": "400fb335",
   "metadata": {},
   "outputs": [
    {
     "data": {
      "image/png": "[encoded data removed]",
      "text/plain": [
       "<Figure size 432x288 with 1 Axes>"
      ]
     },
     "metadata": {
      "needs_background": "light"
     },
     "output_type": "display_data"
    }
   ],
   "source": [
    "love_tagsfig = plt.figure();\n",
    "ax = fig.add_axes([0,0,1,1])\n",
    "ax.set_xticks(np.arange(0, 150, 10))\n",
    "ax.plot(piv_count_messages_day['Anna'])\n",
    "ax.plot(piv_count_messages_day['Pavel'])\n",
    "ax.legend(['Anna','Pavel']); \n"
   ]
  },
  {
   "cell_type": "code",
   "execution_count": 69,
   "id": "5fdb10dd",
   "metadata": {
    "scrolled": true
   },
   "outputs": [
    {
     "data": {
      "image/png": "[encoded data removed]",
      "text/plain": [
       "<Figure size 432x288 with 1 Axes>"
      ]
     },
     "metadata": {
      "needs_background": "light"
     },
     "output_type": "display_data"
    },
    {
     "data": {
      "image/png": "[encoded data removed]",
      "text/plain": [
       "<Figure size 432x288 with 1 Axes>"
      ]
     },
     "metadata": {
      "needs_background": "light"
     },
     "output_type": "display_data"
    }
   ],
   "source": [
    "fig = plt.figure()\n",
    "fig1 = plt.figure()\n",
    "ax = fig.add_axes([1,1,0.3,1])\n",
    "ax_mean = fig1.add_axes([1,1,0.3,1])\n",
    "langs = ['Anna', 'Pavel']\n",
    "students = [anna_count,pavel_count]\n",
    "ax.bar('Anna',anna_count,color = 'red')\n",
    "ax.bar('Pavel',pavel_count,color = 'blue')\n",
    "ax_mean.bar('Anna',anna_mean,color = 'red')\n",
    "ax_mean.bar('AnPavelna',pavel_mean,color = 'blue')\n",
    "plt.show()"
   ]
  },
  {
   "cell_type": "code",
   "execution_count": 98,
   "id": "44c0d06a",
   "metadata": {},
   "outputs": [],
   "source": [
    "# love\n"
   ]
  },
  {
   "cell_type": "code",
   "execution_count": 152,
   "id": "31ebe543",
   "metadata": {},
   "outputs": [],
   "source": [
    "tags = pd.read_excel(r'tags.xlsx')"
   ]
  },
  {
   "cell_type": "code",
   "execution_count": null,
   "id": "3e04d5f8",
   "metadata": {},
   "outputs": [],
   "source": []
  },
  {
   "cell_type": "code",
   "execution_count": 153,
   "id": "4a70bf4d",
   "metadata": {},
   "outputs": [],
   "source": [
    "love_tags = tags[tags.name == 'love']['tags'][0]\n",
    "love_tags = love_tags.split(';')\n",
    "love_tags = '|'.join(love_tags)\n",
    "love_compile = re.compile(love_tags)\n",
    "\n",
    "ans_tags = tags[tags.name == 'answer']['tags'][1]\n",
    "ans_tags = ans_tags.split(';')\n",
    "ans_tags = '|'.join(ans_tags)\n",
    "ans_compile = re.compile(ans_tags)\n",
    "\n",
    "serd_tags = tags[tags.name == 'serd']['tags'][2]\n",
    "serd_tags = serd_tags.split(';')\n",
    "serd_tags = '|'.join(serd_tags)\n",
    "serd_compile = re.compile(serd_tags)"
   ]
  },
  {
   "cell_type": "code",
   "execution_count": null,
   "id": "22e40b73",
   "metadata": {},
   "outputs": [],
   "source": []
  },
  {
   "cell_type": "code",
   "execution_count": 154,
   "id": "90bd5a89",
   "metadata": {},
   "outputs": [],
   "source": [
    "messages['text'] = messages['text'].apply(str)\n",
    "messages['love'] = messages['text'].apply(lambda x: bool(love_compile.search(x)))\n",
    "messages['ans'] = messages['text'].apply(lambda x: bool(ans_compile.search(x)))\n",
    "messages['serd'] = messages['text'].apply(lambda x: bool(serd_compile.search(x)))"
   ]
  },
  {
   "cell_type": "code",
   "execution_count": 145,
   "id": "eab4e273",
   "metadata": {},
   "outputs": [
    {
     "data": {
      "text/plain": [
       "50"
      ]
     },
     "execution_count": 145,
     "metadata": {},
     "output_type": "execute_result"
    }
   ],
   "source": [
    "messages[(messages.love) & (messages.sender == 'Pavel')].shape[0]"
   ]
  },
  {
   "cell_type": "code",
   "execution_count": 146,
   "id": "3a779428",
   "metadata": {},
   "outputs": [
    {
     "data": {
      "text/plain": [
       "24"
      ]
     },
     "execution_count": 146,
     "metadata": {},
     "output_type": "execute_result"
    }
   ],
   "source": [
    "messages[(messages.love) & (messages.sender == 'Anna')].shape[0]"
   ]
  },
  {
   "cell_type": "code",
   "execution_count": 147,
   "id": "c379d8f7",
   "metadata": {},
   "outputs": [
    {
     "data": {
      "text/plain": [
       "0"
      ]
     },
     "execution_count": 147,
     "metadata": {},
     "output_type": "execute_result"
    }
   ],
   "source": [
    "messages[(messages.ans) & (messages.sender == 'Pavel')].shape[0]"
   ]
  },
  {
   "cell_type": "code",
   "execution_count": 149,
   "id": "4f36d002",
   "metadata": {},
   "outputs": [
    {
     "data": {
      "text/plain": [
       "8"
      ]
     },
     "execution_count": 149,
     "metadata": {},
     "output_type": "execute_result"
    }
   ],
   "source": [
    "messages[(messages.ans) & (messages.sender == 'Anna')].shape[0]"
   ]
  },
  {
   "cell_type": "code",
   "execution_count": 156,
   "id": "20d60bdb",
   "metadata": {},
   "outputs": [
    {
     "data": {
      "text/html": [
       "<div>\n",
       "<style scoped>\n",
       "    .dataframe tbody tr th:only-of-type {\n",
       "        vertical-align: middle;\n",
       "    }\n",
       "\n",
       "    .dataframe tbody tr th {\n",
       "        vertical-align: top;\n",
       "    }\n",
       "\n",
       "    .dataframe thead th {\n",
       "        text-align: right;\n",
       "    }\n",
       "</style>\n",
       "<table border=\"1\" class=\"dataframe\">\n",
       "  <thead>\n",
       "    <tr style=\"text-align: right;\">\n",
       "      <th></th>\n",
       "      <th>id</th>\n",
       "      <th>date</th>\n",
       "      <th>sender</th>\n",
       "      <th>text</th>\n",
       "      <th>day</th>\n",
       "      <th>love</th>\n",
       "      <th>ans</th>\n",
       "      <th>serd</th>\n",
       "    </tr>\n",
       "  </thead>\n",
       "  <tbody>\n",
       "    <tr>\n",
       "      <th>94</th>\n",
       "      <td>330115</td>\n",
       "      <td>2021-06-01 00:25:40</td>\n",
       "      <td>Pavel</td>\n",
       "      <td>Добрых снов❤️</td>\n",
       "      <td>2021-06-01</td>\n",
       "      <td>False</td>\n",
       "      <td>False</td>\n",
       "      <td>True</td>\n",
       "    </tr>\n",
       "    <tr>\n",
       "      <th>97</th>\n",
       "      <td>330118</td>\n",
       "      <td>2021-06-01 00:25:59</td>\n",
       "      <td>Anna</td>\n",
       "      <td>💜</td>\n",
       "      <td>2021-06-01</td>\n",
       "      <td>False</td>\n",
       "      <td>False</td>\n",
       "      <td>True</td>\n",
       "    </tr>\n",
       "    <tr>\n",
       "      <th>161</th>\n",
       "      <td>330256</td>\n",
       "      <td>2021-06-01 12:36:50</td>\n",
       "      <td>Pavel</td>\n",
       "      <td>😍😍😍</td>\n",
       "      <td>2021-06-01</td>\n",
       "      <td>False</td>\n",
       "      <td>False</td>\n",
       "      <td>True</td>\n",
       "    </tr>\n",
       "    <tr>\n",
       "      <th>169</th>\n",
       "      <td>330274</td>\n",
       "      <td>2021-06-01 12:40:58</td>\n",
       "      <td>Pavel</td>\n",
       "      <td>❤️</td>\n",
       "      <td>2021-06-01</td>\n",
       "      <td>False</td>\n",
       "      <td>False</td>\n",
       "      <td>True</td>\n",
       "    </tr>\n",
       "    <tr>\n",
       "      <th>558</th>\n",
       "      <td>331063</td>\n",
       "      <td>2021-06-02 00:41:52</td>\n",
       "      <td>Pavel</td>\n",
       "      <td>❤️чмок</td>\n",
       "      <td>2021-06-02</td>\n",
       "      <td>False</td>\n",
       "      <td>False</td>\n",
       "      <td>True</td>\n",
       "    </tr>\n",
       "    <tr>\n",
       "      <th>...</th>\n",
       "      <td>...</td>\n",
       "      <td>...</td>\n",
       "      <td>...</td>\n",
       "      <td>...</td>\n",
       "      <td>...</td>\n",
       "      <td>...</td>\n",
       "      <td>...</td>\n",
       "      <td>...</td>\n",
       "    </tr>\n",
       "    <tr>\n",
       "      <th>32301</th>\n",
       "      <td>390377</td>\n",
       "      <td>2021-10-25 23:50:55</td>\n",
       "      <td>Pavel</td>\n",
       "      <td>Доброй ночи❤️\\nЯ тоже спать\\nИ я тебя люблю</td>\n",
       "      <td>2021-10-25</td>\n",
       "      <td>True</td>\n",
       "      <td>False</td>\n",
       "      <td>True</td>\n",
       "    </tr>\n",
       "    <tr>\n",
       "      <th>32515</th>\n",
       "      <td>390673</td>\n",
       "      <td>2021-10-27 00:00:48</td>\n",
       "      <td>Pavel</td>\n",
       "      <td>Доброй ночи, счастье мое❤️</td>\n",
       "      <td>2021-10-27</td>\n",
       "      <td>False</td>\n",
       "      <td>False</td>\n",
       "      <td>True</td>\n",
       "    </tr>\n",
       "    <tr>\n",
       "      <th>32516</th>\n",
       "      <td>390674</td>\n",
       "      <td>2021-10-27 00:07:08</td>\n",
       "      <td>Anna</td>\n",
       "      <td>Сладких снов💜</td>\n",
       "      <td>2021-10-27</td>\n",
       "      <td>False</td>\n",
       "      <td>False</td>\n",
       "      <td>True</td>\n",
       "    </tr>\n",
       "    <tr>\n",
       "      <th>32521</th>\n",
       "      <td>390679</td>\n",
       "      <td>2021-10-27 09:02:55</td>\n",
       "      <td>Pavel</td>\n",
       "      <td>Доброе утро красавица❤️</td>\n",
       "      <td>2021-10-27</td>\n",
       "      <td>False</td>\n",
       "      <td>False</td>\n",
       "      <td>True</td>\n",
       "    </tr>\n",
       "    <tr>\n",
       "      <th>32844</th>\n",
       "      <td>391122</td>\n",
       "      <td>2021-10-27 23:53:05</td>\n",
       "      <td>Pavel</td>\n",
       "      <td>Доброй ночи, киса❤️</td>\n",
       "      <td>2021-10-27</td>\n",
       "      <td>False</td>\n",
       "      <td>False</td>\n",
       "      <td>True</td>\n",
       "    </tr>\n",
       "  </tbody>\n",
       "</table>\n",
       "<p>463 rows × 8 columns</p>\n",
       "</div>"
      ],
      "text/plain": [
       "           id                date sender  \\\n",
       "94     330115 2021-06-01 00:25:40  Pavel   \n",
       "97     330118 2021-06-01 00:25:59   Anna   \n",
       "161    330256 2021-06-01 12:36:50  Pavel   \n",
       "169    330274 2021-06-01 12:40:58  Pavel   \n",
       "558    331063 2021-06-02 00:41:52  Pavel   \n",
       "...       ...                 ...    ...   \n",
       "32301  390377 2021-10-25 23:50:55  Pavel   \n",
       "32515  390673 2021-10-27 00:00:48  Pavel   \n",
       "32516  390674 2021-10-27 00:07:08   Anna   \n",
       "32521  390679 2021-10-27 09:02:55  Pavel   \n",
       "32844  391122 2021-10-27 23:53:05  Pavel   \n",
       "\n",
       "                                              text         day   love    ans  \\\n",
       "94                                   Добрых снов❤️  2021-06-01  False  False   \n",
       "97                                               💜  2021-06-01  False  False   \n",
       "161                                            😍😍😍  2021-06-01  False  False   \n",
       "169                                             ❤️  2021-06-01  False  False   \n",
       "558                                         ❤️чмок  2021-06-02  False  False   \n",
       "...                                            ...         ...    ...    ...   \n",
       "32301  Доброй ночи❤️\\nЯ тоже спать\\nИ я тебя люблю  2021-10-25   True  False   \n",
       "32515                   Доброй ночи, счастье мое❤️  2021-10-27  False  False   \n",
       "32516                                Сладких снов💜  2021-10-27  False  False   \n",
       "32521                      Доброе утро красавица❤️  2021-10-27  False  False   \n",
       "32844                          Доброй ночи, киса❤️  2021-10-27  False  False   \n",
       "\n",
       "       serd  \n",
       "94     True  \n",
       "97     True  \n",
       "161    True  \n",
       "169    True  \n",
       "558    True  \n",
       "...     ...  \n",
       "32301  True  \n",
       "32515  True  \n",
       "32516  True  \n",
       "32521  True  \n",
       "32844  True  \n",
       "\n",
       "[463 rows x 8 columns]"
      ]
     },
     "execution_count": 156,
     "metadata": {},
     "output_type": "execute_result"
    }
   ],
   "source": [
    "messages[(messages.serd)]"
   ]
  },
  {
   "cell_type": "code",
   "execution_count": 175,
   "id": "3db9253f",
   "metadata": {},
   "outputs": [],
   "source": [
    "piv_love = pd.pivot_table(messages, index = 'sender',values = ['love','ans','serd'],aggfunc='sum')"
   ]
  },
  {
   "cell_type": "code",
   "execution_count": 176,
   "id": "8c9f79f9",
   "metadata": {},
   "outputs": [],
   "source": [
    "piv_love = piv_love.reset_index()"
   ]
  },
  {
   "cell_type": "code",
   "execution_count": 177,
   "id": "cd22f09a",
   "metadata": {},
   "outputs": [
    {
     "data": {
      "text/html": [
       "<div>\n",
       "<style scoped>\n",
       "    .dataframe tbody tr th:only-of-type {\n",
       "        vertical-align: middle;\n",
       "    }\n",
       "\n",
       "    .dataframe tbody tr th {\n",
       "        vertical-align: top;\n",
       "    }\n",
       "\n",
       "    .dataframe thead th {\n",
       "        text-align: right;\n",
       "    }\n",
       "</style>\n",
       "<table border=\"1\" class=\"dataframe\">\n",
       "  <thead>\n",
       "    <tr style=\"text-align: right;\">\n",
       "      <th></th>\n",
       "      <th>sender</th>\n",
       "      <th>ans</th>\n",
       "      <th>love</th>\n",
       "      <th>serd</th>\n",
       "    </tr>\n",
       "  </thead>\n",
       "  <tbody>\n",
       "    <tr>\n",
       "      <th>0</th>\n",
       "      <td>Anna</td>\n",
       "      <td>8</td>\n",
       "      <td>24</td>\n",
       "      <td>119</td>\n",
       "    </tr>\n",
       "    <tr>\n",
       "      <th>1</th>\n",
       "      <td>Pavel</td>\n",
       "      <td>0</td>\n",
       "      <td>50</td>\n",
       "      <td>344</td>\n",
       "    </tr>\n",
       "  </tbody>\n",
       "</table>\n",
       "</div>"
      ],
      "text/plain": [
       "  sender  ans  love  serd\n",
       "0   Anna    8    24   119\n",
       "1  Pavel    0    50   344"
      ]
     },
     "execution_count": 177,
     "metadata": {},
     "output_type": "execute_result"
    }
   ],
   "source": [
    "piv_love"
   ]
  },
  {
   "cell_type": "code",
   "execution_count": null,
   "id": "a05039c8",
   "metadata": {},
   "outputs": [],
   "source": []
  }
 ],
 "metadata": {
  "kernelspec": {
   "display_name": "Python 3",
   "language": "python",
   "name": "python3"
  },
  "language_info": {
   "codemirror_mode": {
    "name": "ipython",
    "version": 3
   },
   "file_extension": ".py",
   "mimetype": "text/x-python",
   "name": "python",
   "nbconvert_exporter": "python",
   "pygments_lexer": "ipython3",
   "version": "3.8.10"
  }
 },
 "nbformat": 4,
 "nbformat_minor": 5
}
